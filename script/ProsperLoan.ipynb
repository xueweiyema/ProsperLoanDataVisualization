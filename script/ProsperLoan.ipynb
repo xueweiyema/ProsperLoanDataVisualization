{
 "cells": [
  {
   "cell_type": "code",
   "execution_count": 195,
   "metadata": {
    "collapsed": true
   },
   "outputs": [],
   "source": [
    "import numpy as np\n",
    "import pandas as pd\n",
    "import datetime"
   ]
  },
  {
   "cell_type": "code",
   "execution_count": 196,
   "metadata": {},
   "outputs": [],
   "source": [
    "# 载入数据\n",
    "prosperLoanData_df = pd.read_csv('../input/prosperLoanData.csv',index_col=0)"
   ]
  },
  {
   "cell_type": "code",
   "execution_count": 197,
   "metadata": {},
   "outputs": [
    {
     "name": "stdout",
     "output_type": "stream",
     "text": [
      "<class 'pandas.core.frame.DataFrame'>\n",
      "Index: 113937 entries, 1021339766868145413AB3B to E6ED3600409833199F711B7\n",
      "Data columns (total 80 columns):\n",
      "ListingNumber                          113937 non-null int64\n",
      "ListingCreationDate                    113937 non-null object\n",
      "CreditGrade                            28953 non-null object\n",
      "Term                                   113937 non-null int64\n",
      "LoanStatus                             113937 non-null object\n",
      "ClosedDate                             55089 non-null object\n",
      "BorrowerAPR                            113912 non-null float64\n",
      "BorrowerRate                           113937 non-null float64\n",
      "LenderYield                            113937 non-null float64\n",
      "EstimatedEffectiveYield                84853 non-null float64\n",
      "EstimatedLoss                          84853 non-null float64\n",
      "EstimatedReturn                        84853 non-null float64\n",
      "ProsperRating (numeric)                84853 non-null float64\n",
      "ProsperRating (Alpha)                  84853 non-null object\n",
      "ProsperScore                           84853 non-null float64\n",
      "ListingCategory (numeric)              113937 non-null int64\n",
      "BorrowerState                          108422 non-null object\n",
      "Occupation                             110349 non-null object\n",
      "EmploymentStatus                       111682 non-null object\n",
      "EmploymentStatusDuration               106312 non-null float64\n",
      "IsBorrowerHomeowner                    113937 non-null bool\n",
      "CurrentlyInGroup                       113937 non-null bool\n",
      "GroupKey                               13341 non-null object\n",
      "DateCreditPulled                       113937 non-null object\n",
      "CreditScoreRangeLower                  113346 non-null float64\n",
      "CreditScoreRangeUpper                  113346 non-null float64\n",
      "FirstRecordedCreditLine                113240 non-null object\n",
      "CurrentCreditLines                     106333 non-null float64\n",
      "OpenCreditLines                        106333 non-null float64\n",
      "TotalCreditLinespast7years             113240 non-null float64\n",
      "OpenRevolvingAccounts                  113937 non-null int64\n",
      "OpenRevolvingMonthlyPayment            113937 non-null float64\n",
      "InquiriesLast6Months                   113240 non-null float64\n",
      "TotalInquiries                         112778 non-null float64\n",
      "CurrentDelinquencies                   113240 non-null float64\n",
      "AmountDelinquent                       106315 non-null float64\n",
      "DelinquenciesLast7Years                112947 non-null float64\n",
      "PublicRecordsLast10Years               113240 non-null float64\n",
      "PublicRecordsLast12Months              106333 non-null float64\n",
      "RevolvingCreditBalance                 106333 non-null float64\n",
      "BankcardUtilization                    106333 non-null float64\n",
      "AvailableBankcardCredit                106393 non-null float64\n",
      "TotalTrades                            106393 non-null float64\n",
      "TradesNeverDelinquent (percentage)     106393 non-null float64\n",
      "TradesOpenedLast6Months                106393 non-null float64\n",
      "DebtToIncomeRatio                      105383 non-null float64\n",
      "IncomeRange                            113937 non-null object\n",
      "IncomeVerifiable                       113937 non-null bool\n",
      "StatedMonthlyIncome                    113937 non-null float64\n",
      "LoanKey                                113937 non-null object\n",
      "TotalProsperLoans                      22085 non-null float64\n",
      "TotalProsperPaymentsBilled             22085 non-null float64\n",
      "OnTimeProsperPayments                  22085 non-null float64\n",
      "ProsperPaymentsLessThanOneMonthLate    22085 non-null float64\n",
      "ProsperPaymentsOneMonthPlusLate        22085 non-null float64\n",
      "ProsperPrincipalBorrowed               22085 non-null float64\n",
      "ProsperPrincipalOutstanding            22085 non-null float64\n",
      "ScorexChangeAtTimeOfListing            18928 non-null float64\n",
      "LoanCurrentDaysDelinquent              113937 non-null int64\n",
      "LoanFirstDefaultedCycleNumber          16952 non-null float64\n",
      "LoanMonthsSinceOrigination             113937 non-null int64\n",
      "LoanNumber                             113937 non-null int64\n",
      "LoanOriginalAmount                     113937 non-null int64\n",
      "LoanOriginationDate                    113937 non-null object\n",
      "LoanOriginationQuarter                 113937 non-null object\n",
      "MemberKey                              113937 non-null object\n",
      "MonthlyLoanPayment                     113937 non-null float64\n",
      "LP_CustomerPayments                    113937 non-null float64\n",
      "LP_CustomerPrincipalPayments           113937 non-null float64\n",
      "LP_InterestandFees                     113937 non-null float64\n",
      "LP_ServiceFees                         113937 non-null float64\n",
      "LP_CollectionFees                      113937 non-null float64\n",
      "LP_GrossPrincipalLoss                  113937 non-null float64\n",
      "LP_NetPrincipalLoss                    113937 non-null float64\n",
      "LP_NonPrincipalRecoverypayments        113937 non-null float64\n",
      "PercentFunded                          113937 non-null float64\n",
      "Recommendations                        113937 non-null int64\n",
      "InvestmentFromFriendsCount             113937 non-null int64\n",
      "InvestmentFromFriendsAmount            113937 non-null float64\n",
      "Investors                              113937 non-null int64\n",
      "dtypes: bool(3), float64(50), int64(11), object(16)\n",
      "memory usage: 68.1+ MB\n"
     ]
    }
   ],
   "source": [
    "prosperLoanData_df.info()"
   ]
  },
  {
   "cell_type": "code",
   "execution_count": 198,
   "metadata": {
    "collapsed": true
   },
   "outputs": [],
   "source": [
    "# 选择出我需要的特征ListingCreationDate,IncomeRange,BorrowerRate\n",
    "DIB_df=prosperLoanData_df[[\"ListingCreationDate\",\"IncomeRange\",\"BorrowerRate\"]]"
   ]
  },
  {
   "cell_type": "code",
   "execution_count": 199,
   "metadata": {},
   "outputs": [
    {
     "name": "stdout",
     "output_type": "stream",
     "text": [
      "<class 'pandas.core.frame.DataFrame'>\n",
      "Index: 113937 entries, 1021339766868145413AB3B to E6ED3600409833199F711B7\n",
      "Data columns (total 3 columns):\n",
      "ListingCreationDate    113937 non-null object\n",
      "IncomeRange            113937 non-null object\n",
      "BorrowerRate           113937 non-null float64\n",
      "dtypes: float64(1), object(2)\n",
      "memory usage: 3.5+ MB\n"
     ]
    }
   ],
   "source": [
    "DIB_df.info()"
   ]
  },
  {
   "cell_type": "code",
   "execution_count": 200,
   "metadata": {},
   "outputs": [
    {
     "data": {
      "text/plain": [
       "$25,000-49,999    32192\n",
       "$50,000-74,999    31050\n",
       "$100,000+         17337\n",
       "$75,000-99,999    16916\n",
       "Not displayed      7741\n",
       "$1-24,999          7274\n",
       "Not employed        806\n",
       "$0                  621\n",
       "Name: IncomeRange, dtype: int64"
      ]
     },
     "execution_count": 200,
     "metadata": {},
     "output_type": "execute_result"
    }
   ],
   "source": [
    "# 各个年收入的类型\n",
    "DIB_df['IncomeRange'].value_counts()"
   ]
  },
  {
   "cell_type": "code",
   "execution_count": 201,
   "metadata": {},
   "outputs": [],
   "source": [
    "# 将Not employed 和0 整合到一起为$0\n",
    "# DIB_df['IncomeRange']=DIB_df['IncomeRange'].replace('Not employed', '$0')\n",
    "\n",
    "DIB_df.loc[DIB_df['IncomeRange']=='Not employed','IncomeRange']='$0'\n"
   ]
  },
  {
   "cell_type": "code",
   "execution_count": 202,
   "metadata": {},
   "outputs": [
    {
     "data": {
      "text/plain": [
       "$25,000-49,999    32192\n",
       "$50,000-74,999    31050\n",
       "$100,000+         17337\n",
       "$75,000-99,999    16916\n",
       "Not displayed      7741\n",
       "$1-24,999          7274\n",
       "$0                 1427\n",
       "Name: IncomeRange, dtype: int64"
      ]
     },
     "execution_count": 202,
     "metadata": {},
     "output_type": "execute_result"
    }
   ],
   "source": [
    "# 合并后各个年收入的类型\n",
    "DIB_df['IncomeRange'].value_counts()"
   ]
  },
  {
   "cell_type": "code",
   "execution_count": 203,
   "metadata": {},
   "outputs": [
    {
     "name": "stdout",
     "output_type": "stream",
     "text": [
      "<class 'pandas.core.frame.DataFrame'>\n",
      "Index: 113937 entries, 1021339766868145413AB3B to E6ED3600409833199F711B7\n",
      "Data columns (total 3 columns):\n",
      "ListingCreationDate    113937 non-null object\n",
      "IncomeRange            113937 non-null object\n",
      "BorrowerRate           113937 non-null float64\n",
      "dtypes: float64(1), object(2)\n",
      "memory usage: 3.5+ MB\n"
     ]
    }
   ],
   "source": [
    "DIB_df.info()"
   ]
  },
  {
   "cell_type": "code",
   "execution_count": 204,
   "metadata": {},
   "outputs": [
    {
     "data": {
      "text/plain": [
       "ListingKey\n",
       "D21A33647075665665BE266    2005-11-09 20:44:28.847000000\n",
       "97B333660731451030726AF    2005-11-11 08:46:17.303000000\n",
       "B3083364738592238DBDA63    2005-11-15 16:06:47.457000000\n",
       "2F25336514614362295DA03    2005-11-15 18:25:56.107000000\n",
       "B87F3364623805558A45EAB    2005-11-18 13:39:03.263000000\n",
       "8D5F33655433257693D8033    2005-11-18 14:10:50.470000000\n",
       "2F123364529418907A58D4C    2005-11-18 14:16:59.093000000\n",
       "B01233643651103736EE3B6    2005-11-18 14:22:34.763000000\n",
       "3480336511078238810A782    2005-11-18 14:48:19.753000000\n",
       "468C3366438848688B8B5B4    2005-11-18 16:35:48.210000000\n",
       "B8D63366141679436131B1C    2005-11-20 13:21:31.993000000\n",
       "B6E73366056348939D8801F    2005-11-20 14:45:55.193000000\n",
       "F7C53365521712881842072    2005-11-20 20:15:47.240000000\n",
       "584D3364403680278BB6704    2005-11-21 19:35:46.890000000\n",
       "0B4133652604109810CAA3B    2005-11-28 16:16:35.077000000\n",
       "84CC3365208034255DDCB47    2005-11-28 17:25:43.160000000\n",
       "044B3365298516680DA929B    2005-11-28 22:42:42.557000000\n",
       "B6C33364979883097BBCD77    2005-11-29 13:29:16.810000000\n",
       "F59D33647178242776CD53B    2005-11-29 20:23:22.770000000\n",
       "54A833661083301426FFC90    2005-12-03 14:03:22.207000000\n",
       "80373365765621932269C34    2005-12-05 13:58:06.017000000\n",
       "0E0F336443449038617E9F4    2005-12-21 19:37:33.813000000\n",
       "DED033645500376547AF34E              2005-12-29 19:53:41\n",
       "E4103364750435927B6F892    2006-01-06 12:54:51.887000000\n",
       "F50A33647261871547E3E0D    2006-01-06 13:05:50.890000000\n",
       "EAC333647965148583476E2    2006-01-06 15:21:19.047000000\n",
       "51AB3364804543605BA53B3    2006-01-09 07:53:34.767000000\n",
       "52F43365822844128E2CBA3    2006-01-16 11:06:17.340000000\n",
       "B3183364581126039C1CDE6    2006-01-16 22:42:09.457000000\n",
       "A5DD33664040814492CBDBF    2006-01-24 10:53:56.873000000\n",
       "                                       ...              \n",
       "DBC736037334953540070CA    2014-03-09 00:57:48.250000000\n",
       "BCCE3604700430863848733    2014-03-09 06:36:49.833000000\n",
       "6B1C3604134830809671F8F    2014-03-09 07:24:01.017000000\n",
       "0F5436043834705525561A5    2014-03-09 08:02:24.587000000\n",
       "FC6336047456988976C1D4C    2014-03-09 08:07:13.007000000\n",
       "78BA360368633110190D957    2014-03-09 08:29:29.077000000\n",
       "26833605265644891B13557    2014-03-09 08:53:58.347000000\n",
       "3A193604364939282749B2B    2014-03-09 09:06:56.027000000\n",
       "5C6536034228354418318D0    2014-03-09 09:37:16.023000000\n",
       "2D8F360409046744631F8EA    2014-03-09 09:51:22.850000000\n",
       "6E48360535387227351E512    2014-03-09 12:20:44.247000000\n",
       "02AF3604309574918EA79D6    2014-03-09 12:44:26.883000000\n",
       "D6243604397114383881EE7    2014-03-09 13:30:02.840000000\n",
       "B9A236037357830577A14BD    2014-03-09 14:50:19.013000000\n",
       "3D3336038923041220E9D55    2014-03-09 14:57:43.660000000\n",
       "4DC036055017687516A8462    2014-03-09 15:07:20.407000000\n",
       "F6BB3603971250518C1E109    2014-03-09 15:25:04.197000000\n",
       "4010360484328046019C6E0    2014-03-09 17:09:35.463000000\n",
       "BE3036050465069623F00DD    2014-03-09 17:52:39.800000000\n",
       "9A5E3604986143594DEF517    2014-03-09 23:54:35.513000000\n",
       "04BE3605014147562A8A38C    2014-03-10 05:10:30.913000000\n",
       "1D233604091030113FE7004    2014-03-10 05:46:30.467000000\n",
       "52873604253466614DF83F0    2014-03-10 05:51:02.593000000\n",
       "F73D360375201179717FE1D    2014-03-10 06:24:10.680000000\n",
       "EE653603459506100437DE6    2014-03-10 06:26:33.343000000\n",
       "0EB136034285662854DD496    2014-03-10 06:47:15.370000000\n",
       "7FFD3604959259527B9EEA0    2014-03-10 07:33:30.033000000\n",
       "05ED3604548633419AB854D    2014-03-10 10:25:51.877000000\n",
       "C0CB36048657611344138C7    2014-03-10 11:28:06.920000000\n",
       "CB863604626731380F57A50    2014-03-10 12:20:53.760000000\n",
       "Name: ListingCreationDate, Length: 113937, dtype: object"
      ]
     },
     "execution_count": 204,
     "metadata": {},
     "output_type": "execute_result"
    }
   ],
   "source": [
    "DIB_df['ListingCreationDate'].sort_values(ascending=True)"
   ]
  },
  {
   "cell_type": "code",
   "execution_count": 205,
   "metadata": {},
   "outputs": [],
   "source": [
    "DIB_df.loc[DIB_df.index<>0,'ListingCreationDate']=pd.to_datetime(DIB_df['ListingCreationDate'])\n",
    "# DIB_df['ListingCreationDate']=pd.to_datetime(DIB_df['ListingCreationDate'])"
   ]
  },
  {
   "cell_type": "code",
   "execution_count": 206,
   "metadata": {},
   "outputs": [
    {
     "name": "stdout",
     "output_type": "stream",
     "text": [
      "<class 'pandas.core.frame.DataFrame'>\n",
      "Index: 113937 entries, 1021339766868145413AB3B to E6ED3600409833199F711B7\n",
      "Data columns (total 3 columns):\n",
      "ListingCreationDate    113937 non-null datetime64[ns]\n",
      "IncomeRange            113937 non-null object\n",
      "BorrowerRate           113937 non-null float64\n",
      "dtypes: datetime64[ns](1), float64(1), object(1)\n",
      "memory usage: 3.5+ MB\n"
     ]
    },
    {
     "data": {
      "text/plain": [
       "2013    35413\n",
       "2012    19556\n",
       "2007    11557\n",
       "2011    11442\n",
       "2008    11263\n",
       "2014    10734\n",
       "2006     6213\n",
       "2010     5530\n",
       "2009     2206\n",
       "2005       23\n",
       "Name: ListingCreationDate, dtype: int64"
      ]
     },
     "execution_count": 206,
     "metadata": {},
     "output_type": "execute_result"
    }
   ],
   "source": [
    "# 查看总共有哪些年的数据\n",
    "DIB_df.info()\n",
    "DIB_df['ListingCreationDate'].dt.year.value_counts()"
   ]
  },
  {
   "cell_type": "code",
   "execution_count": 211,
   "metadata": {},
   "outputs": [],
   "source": [
    "# 观察发现2011年及之后的数据完整性更好故采用2011年之后的数据做可视化\n",
    "DIB_df['Year']=DIB_df['ListingCreationDate'].dt.year"
   ]
  },
  {
   "cell_type": "code",
   "execution_count": 208,
   "metadata": {},
   "outputs": [],
   "source": [
    "DIB_df=DIB_df.query('Year>2010')"
   ]
  },
  {
   "cell_type": "code",
   "execution_count": 209,
   "metadata": {},
   "outputs": [
    {
     "data": {
      "text/plain": [
       "2013    35413\n",
       "2012    19556\n",
       "2011    11442\n",
       "2014    10734\n",
       "Name: ListingCreationDate, dtype: int64"
      ]
     },
     "execution_count": 209,
     "metadata": {},
     "output_type": "execute_result"
    }
   ],
   "source": [
    "DIB_df['ListingCreationDate'].dt.year.value_counts()"
   ]
  },
  {
   "cell_type": "code",
   "execution_count": 210,
   "metadata": {
    "collapsed": true
   },
   "outputs": [],
   "source": [
    "# 将数据输出写入csv文件\n",
    "DIB_df.to_csv(\"../dib.csv\", index=False)"
   ]
  },
  {
   "cell_type": "code",
   "execution_count": null,
   "metadata": {
    "collapsed": true
   },
   "outputs": [],
   "source": []
  }
 ],
 "metadata": {
  "kernelspec": {
   "display_name": "Python 2",
   "language": "python",
   "name": "python2"
  },
  "language_info": {
   "codemirror_mode": {
    "name": "ipython",
    "version": 2
   },
   "file_extension": ".py",
   "mimetype": "text/x-python",
   "name": "python",
   "nbconvert_exporter": "python",
   "pygments_lexer": "ipython2",
   "version": "2.7.13"
  }
 },
 "nbformat": 4,
 "nbformat_minor": 2
}
