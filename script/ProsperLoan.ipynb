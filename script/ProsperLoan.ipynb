{
 "cells": [
  {
   "cell_type": "code",
   "execution_count": 37,
   "metadata": {
    "collapsed": true
   },
   "outputs": [],
   "source": [
    "import numpy as np\n",
    "import pandas as pd\n",
    "import datetime"
   ]
  },
  {
   "cell_type": "code",
   "execution_count": 38,
   "metadata": {
    "collapsed": true
   },
   "outputs": [],
   "source": [
    "# 载入数据\n",
    "prosperLoanData_df = pd.read_csv('../input/prosperLoanData.csv')"
   ]
  },
  {
   "cell_type": "code",
   "execution_count": 39,
   "metadata": {},
   "outputs": [
    {
     "name": "stdout",
     "output_type": "stream",
     "text": [
      "<class 'pandas.core.frame.DataFrame'>\n",
      "RangeIndex: 113937 entries, 0 to 113936\n",
      "Data columns (total 81 columns):\n",
      "ListingKey                             113937 non-null object\n",
      "ListingNumber                          113937 non-null int64\n",
      "ListingCreationDate                    113937 non-null object\n",
      "CreditGrade                            28953 non-null object\n",
      "Term                                   113937 non-null int64\n",
      "LoanStatus                             113937 non-null object\n",
      "ClosedDate                             55089 non-null object\n",
      "BorrowerAPR                            113912 non-null float64\n",
      "BorrowerRate                           113937 non-null float64\n",
      "LenderYield                            113937 non-null float64\n",
      "EstimatedEffectiveYield                84853 non-null float64\n",
      "EstimatedLoss                          84853 non-null float64\n",
      "EstimatedReturn                        84853 non-null float64\n",
      "ProsperRating (numeric)                84853 non-null float64\n",
      "ProsperRating (Alpha)                  84853 non-null object\n",
      "ProsperScore                           84853 non-null float64\n",
      "ListingCategory (numeric)              113937 non-null int64\n",
      "BorrowerState                          108422 non-null object\n",
      "Occupation                             110349 non-null object\n",
      "EmploymentStatus                       111682 non-null object\n",
      "EmploymentStatusDuration               106312 non-null float64\n",
      "IsBorrowerHomeowner                    113937 non-null bool\n",
      "CurrentlyInGroup                       113937 non-null bool\n",
      "GroupKey                               13341 non-null object\n",
      "DateCreditPulled                       113937 non-null object\n",
      "CreditScoreRangeLower                  113346 non-null float64\n",
      "CreditScoreRangeUpper                  113346 non-null float64\n",
      "FirstRecordedCreditLine                113240 non-null object\n",
      "CurrentCreditLines                     106333 non-null float64\n",
      "OpenCreditLines                        106333 non-null float64\n",
      "TotalCreditLinespast7years             113240 non-null float64\n",
      "OpenRevolvingAccounts                  113937 non-null int64\n",
      "OpenRevolvingMonthlyPayment            113937 non-null float64\n",
      "InquiriesLast6Months                   113240 non-null float64\n",
      "TotalInquiries                         112778 non-null float64\n",
      "CurrentDelinquencies                   113240 non-null float64\n",
      "AmountDelinquent                       106315 non-null float64\n",
      "DelinquenciesLast7Years                112947 non-null float64\n",
      "PublicRecordsLast10Years               113240 non-null float64\n",
      "PublicRecordsLast12Months              106333 non-null float64\n",
      "RevolvingCreditBalance                 106333 non-null float64\n",
      "BankcardUtilization                    106333 non-null float64\n",
      "AvailableBankcardCredit                106393 non-null float64\n",
      "TotalTrades                            106393 non-null float64\n",
      "TradesNeverDelinquent (percentage)     106393 non-null float64\n",
      "TradesOpenedLast6Months                106393 non-null float64\n",
      "DebtToIncomeRatio                      105383 non-null float64\n",
      "IncomeRange                            113937 non-null object\n",
      "IncomeVerifiable                       113937 non-null bool\n",
      "StatedMonthlyIncome                    113937 non-null float64\n",
      "LoanKey                                113937 non-null object\n",
      "TotalProsperLoans                      22085 non-null float64\n",
      "TotalProsperPaymentsBilled             22085 non-null float64\n",
      "OnTimeProsperPayments                  22085 non-null float64\n",
      "ProsperPaymentsLessThanOneMonthLate    22085 non-null float64\n",
      "ProsperPaymentsOneMonthPlusLate        22085 non-null float64\n",
      "ProsperPrincipalBorrowed               22085 non-null float64\n",
      "ProsperPrincipalOutstanding            22085 non-null float64\n",
      "ScorexChangeAtTimeOfListing            18928 non-null float64\n",
      "LoanCurrentDaysDelinquent              113937 non-null int64\n",
      "LoanFirstDefaultedCycleNumber          16952 non-null float64\n",
      "LoanMonthsSinceOrigination             113937 non-null int64\n",
      "LoanNumber                             113937 non-null int64\n",
      "LoanOriginalAmount                     113937 non-null int64\n",
      "LoanOriginationDate                    113937 non-null object\n",
      "LoanOriginationQuarter                 113937 non-null object\n",
      "MemberKey                              113937 non-null object\n",
      "MonthlyLoanPayment                     113937 non-null float64\n",
      "LP_CustomerPayments                    113937 non-null float64\n",
      "LP_CustomerPrincipalPayments           113937 non-null float64\n",
      "LP_InterestandFees                     113937 non-null float64\n",
      "LP_ServiceFees                         113937 non-null float64\n",
      "LP_CollectionFees                      113937 non-null float64\n",
      "LP_GrossPrincipalLoss                  113937 non-null float64\n",
      "LP_NetPrincipalLoss                    113937 non-null float64\n",
      "LP_NonPrincipalRecoverypayments        113937 non-null float64\n",
      "PercentFunded                          113937 non-null float64\n",
      "Recommendations                        113937 non-null int64\n",
      "InvestmentFromFriendsCount             113937 non-null int64\n",
      "InvestmentFromFriendsAmount            113937 non-null float64\n",
      "Investors                              113937 non-null int64\n",
      "dtypes: bool(3), float64(50), int64(11), object(17)\n",
      "memory usage: 68.1+ MB\n"
     ]
    }
   ],
   "source": [
    "prosperLoanData_df.info()"
   ]
  },
  {
   "cell_type": "code",
   "execution_count": 40,
   "metadata": {
    "collapsed": true
   },
   "outputs": [],
   "source": [
    "# 选择出我需要的特征ListingCreationDate,IncomeRange,BorrowerRate\n",
    "DIB_df=prosperLoanData_df[[\"ListingCreationDate\",\"IncomeRange\",\"BorrowerRate\"]]"
   ]
  },
  {
   "cell_type": "code",
   "execution_count": 41,
   "metadata": {},
   "outputs": [
    {
     "name": "stdout",
     "output_type": "stream",
     "text": [
      "<class 'pandas.core.frame.DataFrame'>\n",
      "RangeIndex: 113937 entries, 0 to 113936\n",
      "Data columns (total 3 columns):\n",
      "ListingCreationDate    113937 non-null object\n",
      "IncomeRange            113937 non-null object\n",
      "BorrowerRate           113937 non-null float64\n",
      "dtypes: float64(1), object(2)\n",
      "memory usage: 2.6+ MB\n"
     ]
    }
   ],
   "source": [
    "DIB_df.info()"
   ]
  },
  {
   "cell_type": "code",
   "execution_count": 42,
   "metadata": {},
   "outputs": [
    {
     "data": {
      "text/plain": [
       "$25,000-49,999    32192\n",
       "$50,000-74,999    31050\n",
       "$100,000+         17337\n",
       "$75,000-99,999    16916\n",
       "Not displayed      7741\n",
       "$1-24,999          7274\n",
       "Not employed        806\n",
       "$0                  621\n",
       "Name: IncomeRange, dtype: int64"
      ]
     },
     "execution_count": 42,
     "metadata": {},
     "output_type": "execute_result"
    }
   ],
   "source": [
    "# 各个年收入的类型\n",
    "DIB_df['IncomeRange'].value_counts()"
   ]
  },
  {
   "cell_type": "code",
   "execution_count": 43,
   "metadata": {},
   "outputs": [],
   "source": [
    "# 将Not employed 和0 整合到一起为$0\n",
    "# DIB_df['IncomeRange']=DIB_df['IncomeRange'].replace('Not employed', '$0')\n",
    "\n",
    "DIB_df.loc[DIB_df['IncomeRange']=='Not employed','IncomeRange']='$0'\n"
   ]
  },
  {
   "cell_type": "code",
   "execution_count": 44,
   "metadata": {},
   "outputs": [
    {
     "data": {
      "text/plain": [
       "$25,000-49,999    32192\n",
       "$50,000-74,999    31050\n",
       "$100,000+         17337\n",
       "$75,000-99,999    16916\n",
       "Not displayed      7741\n",
       "$1-24,999          7274\n",
       "$0                 1427\n",
       "Name: IncomeRange, dtype: int64"
      ]
     },
     "execution_count": 44,
     "metadata": {},
     "output_type": "execute_result"
    }
   ],
   "source": [
    "# 合并后各个年收入的类型\n",
    "DIB_df['IncomeRange'].value_counts()"
   ]
  },
  {
   "cell_type": "code",
   "execution_count": 45,
   "metadata": {},
   "outputs": [
    {
     "name": "stdout",
     "output_type": "stream",
     "text": [
      "<class 'pandas.core.frame.DataFrame'>\n",
      "RangeIndex: 113937 entries, 0 to 113936\n",
      "Data columns (total 3 columns):\n",
      "ListingCreationDate    113937 non-null object\n",
      "IncomeRange            113937 non-null object\n",
      "BorrowerRate           113937 non-null float64\n",
      "dtypes: float64(1), object(2)\n",
      "memory usage: 2.6+ MB\n"
     ]
    }
   ],
   "source": [
    "DIB_df.info()"
   ]
  },
  {
   "cell_type": "code",
   "execution_count": 46,
   "metadata": {},
   "outputs": [
    {
     "data": {
      "text/plain": [
       "113921    2005-11-09 20:44:28.847000000\n",
       "106735    2005-11-11 08:46:17.303000000\n",
       "25166     2005-11-15 16:06:47.457000000\n",
       "62297     2005-11-15 18:25:56.107000000\n",
       "90598     2005-11-18 13:39:03.263000000\n",
       "73945     2005-11-18 14:10:50.470000000\n",
       "43587     2005-11-18 14:16:59.093000000\n",
       "105925    2005-11-18 14:22:34.763000000\n",
       "29773     2005-11-18 14:48:19.753000000\n",
       "78414     2005-11-18 16:35:48.210000000\n",
       "106465    2005-11-20 13:21:31.993000000\n",
       "39870     2005-11-20 14:45:55.193000000\n",
       "75710     2005-11-20 20:15:47.240000000\n",
       "81848     2005-11-21 19:35:46.890000000\n",
       "74114     2005-11-28 16:16:35.077000000\n",
       "111607    2005-11-28 17:25:43.160000000\n",
       "2543      2005-11-28 22:42:42.557000000\n",
       "25330     2005-11-29 13:29:16.810000000\n",
       "109027    2005-11-29 20:23:22.770000000\n",
       "80369     2005-12-03 14:03:22.207000000\n",
       "92516     2005-12-05 13:58:06.017000000\n",
       "103509    2005-12-21 19:37:33.813000000\n",
       "71280               2005-12-29 19:53:41\n",
       "14632     2006-01-06 12:54:51.887000000\n",
       "71875     2006-01-06 13:05:50.890000000\n",
       "96066     2006-01-06 15:21:19.047000000\n",
       "94504     2006-01-09 07:53:34.767000000\n",
       "43916     2006-01-16 11:06:17.340000000\n",
       "18485     2006-01-16 22:42:09.457000000\n",
       "50426     2006-01-24 10:53:56.873000000\n",
       "                      ...              \n",
       "106149    2014-03-09 00:57:48.250000000\n",
       "59914     2014-03-09 06:36:49.833000000\n",
       "71508     2014-03-09 07:24:01.017000000\n",
       "3851      2014-03-09 08:02:24.587000000\n",
       "29569     2014-03-09 08:07:13.007000000\n",
       "41361     2014-03-09 08:29:29.077000000\n",
       "94423     2014-03-09 08:53:58.347000000\n",
       "69189     2014-03-09 09:06:56.027000000\n",
       "98358     2014-03-09 09:37:16.023000000\n",
       "97361     2014-03-09 09:51:22.850000000\n",
       "32146     2014-03-09 12:20:44.247000000\n",
       "20309     2014-03-09 12:44:26.883000000\n",
       "42897     2014-03-09 13:30:02.840000000\n",
       "18571     2014-03-09 14:50:19.013000000\n",
       "6484      2014-03-09 14:57:43.660000000\n",
       "89653     2014-03-09 15:07:20.407000000\n",
       "77292     2014-03-09 15:25:04.197000000\n",
       "79287     2014-03-09 17:09:35.463000000\n",
       "28665     2014-03-09 17:52:39.800000000\n",
       "80907     2014-03-09 23:54:35.513000000\n",
       "11498     2014-03-10 05:10:30.913000000\n",
       "59307     2014-03-10 05:46:30.467000000\n",
       "16643     2014-03-10 05:51:02.593000000\n",
       "71816     2014-03-10 06:24:10.680000000\n",
       "64766     2014-03-10 06:26:33.343000000\n",
       "104205    2014-03-10 06:47:15.370000000\n",
       "73267     2014-03-10 07:33:30.033000000\n",
       "67741     2014-03-10 10:25:51.877000000\n",
       "32376     2014-03-10 11:28:06.920000000\n",
       "14131     2014-03-10 12:20:53.760000000\n",
       "Name: ListingCreationDate, Length: 113937, dtype: object"
      ]
     },
     "execution_count": 46,
     "metadata": {},
     "output_type": "execute_result"
    }
   ],
   "source": [
    "DIB_df['ListingCreationDate'].sort_values(ascending=True)"
   ]
  },
  {
   "cell_type": "code",
   "execution_count": 47,
   "metadata": {},
   "outputs": [
    {
     "name": "stdout",
     "output_type": "stream",
     "text": [
      "<class 'pandas.core.frame.DataFrame'>\n",
      "RangeIndex: 113937 entries, 0 to 113936\n",
      "Data columns (total 3 columns):\n",
      "ListingCreationDate    113937 non-null object\n",
      "IncomeRange            113937 non-null object\n",
      "BorrowerRate           113937 non-null float64\n",
      "dtypes: float64(1), object(2)\n",
      "memory usage: 2.6+ MB\n"
     ]
    }
   ],
   "source": [
    "DIB_df.info()"
   ]
  },
  {
   "cell_type": "code",
   "execution_count": 48,
   "metadata": {
    "collapsed": true
   },
   "outputs": [],
   "source": [
    "# 将数据输出写入csv文件\n",
    "DIB_df.to_csv(\"../dib.csv\", index=False)"
   ]
  },
  {
   "cell_type": "code",
   "execution_count": 49,
   "metadata": {},
   "outputs": [
    {
     "data": {
      "text/plain": [
       "113921    2005-11-09 20:44:28.847000000\n",
       "106735    2005-11-11 08:46:17.303000000\n",
       "25166     2005-11-15 16:06:47.457000000\n",
       "62297     2005-11-15 18:25:56.107000000\n",
       "90598     2005-11-18 13:39:03.263000000\n",
       "73945     2005-11-18 14:10:50.470000000\n",
       "43587     2005-11-18 14:16:59.093000000\n",
       "105925    2005-11-18 14:22:34.763000000\n",
       "29773     2005-11-18 14:48:19.753000000\n",
       "78414     2005-11-18 16:35:48.210000000\n",
       "106465    2005-11-20 13:21:31.993000000\n",
       "39870     2005-11-20 14:45:55.193000000\n",
       "75710     2005-11-20 20:15:47.240000000\n",
       "81848     2005-11-21 19:35:46.890000000\n",
       "74114     2005-11-28 16:16:35.077000000\n",
       "111607    2005-11-28 17:25:43.160000000\n",
       "2543      2005-11-28 22:42:42.557000000\n",
       "25330     2005-11-29 13:29:16.810000000\n",
       "109027    2005-11-29 20:23:22.770000000\n",
       "80369     2005-12-03 14:03:22.207000000\n",
       "92516     2005-12-05 13:58:06.017000000\n",
       "103509    2005-12-21 19:37:33.813000000\n",
       "71280               2005-12-29 19:53:41\n",
       "14632     2006-01-06 12:54:51.887000000\n",
       "71875     2006-01-06 13:05:50.890000000\n",
       "96066     2006-01-06 15:21:19.047000000\n",
       "94504     2006-01-09 07:53:34.767000000\n",
       "43916     2006-01-16 11:06:17.340000000\n",
       "18485     2006-01-16 22:42:09.457000000\n",
       "50426     2006-01-24 10:53:56.873000000\n",
       "                      ...              \n",
       "106149    2014-03-09 00:57:48.250000000\n",
       "59914     2014-03-09 06:36:49.833000000\n",
       "71508     2014-03-09 07:24:01.017000000\n",
       "3851      2014-03-09 08:02:24.587000000\n",
       "29569     2014-03-09 08:07:13.007000000\n",
       "41361     2014-03-09 08:29:29.077000000\n",
       "94423     2014-03-09 08:53:58.347000000\n",
       "69189     2014-03-09 09:06:56.027000000\n",
       "98358     2014-03-09 09:37:16.023000000\n",
       "97361     2014-03-09 09:51:22.850000000\n",
       "32146     2014-03-09 12:20:44.247000000\n",
       "20309     2014-03-09 12:44:26.883000000\n",
       "42897     2014-03-09 13:30:02.840000000\n",
       "18571     2014-03-09 14:50:19.013000000\n",
       "6484      2014-03-09 14:57:43.660000000\n",
       "89653     2014-03-09 15:07:20.407000000\n",
       "77292     2014-03-09 15:25:04.197000000\n",
       "79287     2014-03-09 17:09:35.463000000\n",
       "28665     2014-03-09 17:52:39.800000000\n",
       "80907     2014-03-09 23:54:35.513000000\n",
       "11498     2014-03-10 05:10:30.913000000\n",
       "59307     2014-03-10 05:46:30.467000000\n",
       "16643     2014-03-10 05:51:02.593000000\n",
       "71816     2014-03-10 06:24:10.680000000\n",
       "64766     2014-03-10 06:26:33.343000000\n",
       "104205    2014-03-10 06:47:15.370000000\n",
       "73267     2014-03-10 07:33:30.033000000\n",
       "67741     2014-03-10 10:25:51.877000000\n",
       "32376     2014-03-10 11:28:06.920000000\n",
       "14131     2014-03-10 12:20:53.760000000\n",
       "Name: ListingCreationDate, Length: 113937, dtype: object"
      ]
     },
     "execution_count": 49,
     "metadata": {},
     "output_type": "execute_result"
    }
   ],
   "source": [
    "DIB_df['ListingCreationDate'].sort_values(ascending=True)"
   ]
  },
  {
   "cell_type": "code",
   "execution_count": null,
   "metadata": {
    "collapsed": true
   },
   "outputs": [],
   "source": []
  }
 ],
 "metadata": {
  "kernelspec": {
   "display_name": "Python 2",
   "language": "python",
   "name": "python2"
  },
  "language_info": {
   "codemirror_mode": {
    "name": "ipython",
    "version": 2
   },
   "file_extension": ".py",
   "mimetype": "text/x-python",
   "name": "python",
   "nbconvert_exporter": "python",
   "pygments_lexer": "ipython2",
   "version": "2.7.13"
  }
 },
 "nbformat": 4,
 "nbformat_minor": 2
}
